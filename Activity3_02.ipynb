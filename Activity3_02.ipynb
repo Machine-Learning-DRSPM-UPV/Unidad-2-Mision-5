{
 "cells": [
  {
   "cell_type": "markdown",
   "metadata": {},
   "source": [
    "# Activity 3.02: Support Vector Machine Optimization in scikit-learn\n",
    "\n",
    "In this activity, you will be using, comparing, and contrasting the different SVMs' classifier parameters. With this, you will find a set of parameters resulting in the highest classification data on the training and testing data that we loaded and prepared in Activity 3.01.\n",
    "\n",
    "You must different combinations of hyperparameters for SVM:\n",
    "\n",
    "  * kernel=\"linear\"\n",
    "  * kernel=\"poly\", C=1, degree=4, gamma=0.05\n",
    "  * kernel=\"poly\", C=1, degree=4, gamma=0.05\n",
    "  * kernel=\"poly\", C=1, degree=4, gamma=0.25\n",
    "  * kernel=\"poly\", C=1, degree=4, gamma=0.5\n",
    "  * kernel=\"poly\", C=1, degree=4, gamma=0.16\n",
    "  * kernel=\"sigmoid\"\n",
    "  * kernel=\"rbf\", gamma=0.15\n",
    "  * kernel=\"rbf\", gamma=0.25\n",
    "  * kernel=\"rbf\", gamma=0.5\n",
    "  * kernel=\"rbf\", gamma=0.35\n",
    "  \n",
    "  > **Hints**  \n",
    "  >  * Import svm from sklearn.\n",
    "  >  * Create a function to instantiate an SVC with the hyperparameters specified, fit with the training data, and return the accuracy score for the training and testing sets.\n",
    "  >  * Using the function you created, assess the accuracy scores for the different hyperparameter combinations.\n",
    "  >  * Find the best combination of hyperparameters.\n",
    "  \n",
    "\n",
    "Output:\n",
    "\n",
    "```\n",
    "0.71625 0.75\n",
    "0.68875 0.745\n",
    "0.68875 0.745\n",
    "0.84625 0.775\n",
    "0.9575 0.73\n",
    "0.76375 0.785\n",
    "0.635 0.66\n",
    "0.7175 0.765\n",
    "0.74 0.765\n",
    "0.78125 0.775\n",
    "```"
   ]
  },
  {
   "cell_type": "code",
   "execution_count": 1,
   "metadata": {},
   "outputs": [],
   "source": []
  },
  {
   "cell_type": "code",
   "execution_count": 6,
   "metadata": {},
   "outputs": [],
   "source": []
  },
  {
   "cell_type": "code",
   "execution_count": 7,
   "metadata": {},
   "outputs": [
    {
     "name": "stdout",
     "output_type": "stream",
     "text": [
      "0.71625 0.75\n",
      "0.68875 0.745\n",
      "0.68875 0.745\n",
      "0.84625 0.775\n",
      "0.9575 0.73\n",
      "0.76375 0.785\n",
      "0.635 0.66\n",
      "0.7175 0.765\n",
      "0.74 0.765\n",
      "0.78125 0.775\n"
     ]
    }
   ],
   "source": []
  },
  {
   "cell_type": "markdown",
   "metadata": {},
   "source": [
    "With the `rbf` kernel and `gamma=0.35`, we got very similar results for the training and testing sets and the model's performance is higher than the best KNN we trained in the previous activity. This is our best model for the German credit dataset."
   ]
  },
  {
   "cell_type": "markdown",
   "metadata": {},
   "source": [
    "n this activity, we tried different values for the main hyperparameters of the SVM classifier: `kernel`, `gamma`, `C`, and `degrees`. We saw how they affected the model's performance and their tendency to overfit. With trial and error, we finally found the best hyperparameter combination and achieved an accuracy score close to 0.78. This process is called **hyperparameter tuning** and is an important step for any data science project."
   ]
  },
  {
   "cell_type": "code",
   "execution_count": null,
   "metadata": {},
   "outputs": [],
   "source": []
  }
 ],
 "metadata": {
  "kernelspec": {
   "display_name": "Python 3",
   "language": "python",
   "name": "python3"
  },
  "language_info": {
   "codemirror_mode": {
    "name": "ipython",
    "version": 3
   },
   "file_extension": ".py",
   "mimetype": "text/x-python",
   "name": "python",
   "nbconvert_exporter": "python",
   "pygments_lexer": "ipython3",
   "version": "3.8.5"
  }
 },
 "nbformat": 4,
 "nbformat_minor": 4
}
