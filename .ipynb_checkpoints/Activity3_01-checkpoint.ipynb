{
 "cells": [
  {
   "cell_type": "markdown",
   "metadata": {},
   "source": [
    "# Activity 3.01: Increasing the Accuracy of Credit Scoring\n",
    "\n",
    "In this activity, you will be implementing the parameterization of the k-nearest neighbors classifier and observing the end result. The accuracy of credit scoring is currently 75%. You need to find a way to increase it by a few percentage points.\n",
    "\n",
    "You can try different values for k ($5, 10, 15, 25$, and $50$) with the Euclidean and Manhattan distances.\n",
    "\n",
    "  > **Hints**  \n",
    "  >  * This activity requires you to complete Exercise 3.04  \n",
    "  >  * Import neighbors from sklearn.\n",
    "  >  * Create a function to instantiate `KNeighborsClassifier` with hyperparameters specified, fit it with the training data, and return the accuracy score for the training and testing sets.\n",
    "  >  * Using the function you created, assess the accuracy score for k = (5, 10, 15, 25, 50) for both the Euclidean and Manhattan distances.\n",
    "  >  * Find the best combination of hyperparameters.\n",
    "  \n",
    "Output:\n",
    "\n",
    "```\n",
    "(0.775, 0.785)\n",
    "```"
   ]
  },
  {
   "cell_type": "code",
   "execution_count": null,
   "metadata": {},
   "outputs": [],
   "source": []
  },
  {
   "cell_type": "code",
   "execution_count": null,
   "metadata": {},
   "outputs": [],
   "source": []
  },
  {
   "cell_type": "code",
   "execution_count": null,
   "metadata": {},
   "outputs": [],
   "source": []
  },
  {
   "cell_type": "code",
   "execution_count": null,
   "metadata": {},
   "outputs": [],
   "source": []
  },
  {
   "cell_type": "code",
   "execution_count": null,
   "metadata": {},
   "outputs": [],
   "source": []
  },
  {
   "cell_type": "code",
   "execution_count": null,
   "metadata": {},
   "outputs": [],
   "source": []
  },
  {
   "cell_type": "code",
   "execution_count": null,
   "metadata": {},
   "outputs": [],
   "source": []
  },
  {
   "cell_type": "code",
   "execution_count": null,
   "metadata": {},
   "outputs": [],
   "source": []
  },
  {
   "cell_type": "markdown",
   "metadata": {},
   "source": [
    "In this activity, we tried multiple combinations of hyperparameters for `n_neighbors` and `p`. The best one we found was for `n_neighbors=10` and `p=2`. With these hyperparameters, the model is not overfitting much and it achieved an accuracy score of around $78\\%$ for both the training and testing sets"
   ]
  },
  {
   "cell_type": "code",
   "execution_count": null,
   "metadata": {},
   "outputs": [],
   "source": []
  }
 ],
 "metadata": {
  "kernelspec": {
   "display_name": "Python 3",
   "language": "python",
   "name": "python3"
  },
  "language_info": {
   "codemirror_mode": {
    "name": "ipython",
    "version": 3
   },
   "file_extension": ".py",
   "mimetype": "text/x-python",
   "name": "python",
   "nbconvert_exporter": "python",
   "pygments_lexer": "ipython3",
   "version": "3.8.5"
  }
 },
 "nbformat": 4,
 "nbformat_minor": 4
}
